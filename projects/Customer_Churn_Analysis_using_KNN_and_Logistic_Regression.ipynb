{
  "nbformat": 4,
  "nbformat_minor": 0,
  "metadata": {
    "colab": {
      "provenance": []
    },
    "kernelspec": {
      "name": "python3",
      "display_name": "Python 3"
    },
    "language_info": {
      "name": "python"
    }
  },
  "cells": [
    {
      "cell_type": "code",
      "source": [],
      "metadata": {
        "id": "Iav9BrMUE7a2"
      },
      "execution_count": null,
      "outputs": []
    },
    {
      "cell_type": "markdown",
      "source": [
        " # Loading and Exploring Social Media and Telecom Dataset\n",
        "\n",
        " ## Explanation\n",
        "\n",
        " This section connects to Google Drive and loads two datasets—Social Media and Telecom—into pandas DataFrames. It allows for an initial exploration by printing the first few rows of each dataset, providing insight into the structure and types of data available."
      ],
      "metadata": {
        "id": "uvi3l29eY_n3"
      }
    },
    {
      "cell_type": "code",
      "source": [
        "# Import necessary libraries\n",
        "import pandas as pd\n",
        "from google.colab import drive\n",
        "\n",
        "# Mount Google Drive\n",
        "drive.mount('/content/drive')\n",
        "\n",
        "# Defining file paths for both datasets\n",
        "socialmedia_path = '/content/drive/MyDrive/socialmedia.csv'  # Update if in a specific folder\n",
        "telecom_path = '/content/drive/MyDrive/telecom.csv'  # Update if in a specific folder\n",
        "\n",
        "# Load the social media dataset\n",
        "socialmedia_df = pd.read_csv(socialmedia_path)\n",
        "print(\"Social Media Dataset:\")\n",
        "print(socialmedia_df.head())  # Display the first few rows\n",
        "\n",
        "# Load the telecom dataset\n",
        "telecom_df = pd.read_csv(telecom_path)\n",
        "print(\"\\nTelecom Dataset:\")\n",
        "print(telecom_df.head())  # Display the first few rows\n",
        "\n",
        "\n",
        "\n",
        "\n",
        "\n"
      ],
      "metadata": {
        "colab": {
          "base_uri": "https://localhost:8080/"
        },
        "id": "VlVqPd6_6_aT",
        "outputId": "5ec9787b-e523-4acd-ba3a-96b434f32913"
      },
      "execution_count": 1,
      "outputs": [
        {
          "output_type": "stream",
          "name": "stdout",
          "text": [
            "Mounted at /content/drive\n",
            "Social Media Dataset:\n",
            "   Page total likes    Type  Category  Post Month  Post Weekday  Post Hour  \\\n",
            "0            139441   Photo         2          12             4          3   \n",
            "1            139441  Status         2          12             3         10   \n",
            "2            139441   Photo         3          12             3          3   \n",
            "3            139441   Photo         2          12             2         10   \n",
            "4            139441   Photo         2          12             2          3   \n",
            "\n",
            "   Paid  Lifetime Post Total Reach  Lifetime Post Total Impressions  \\\n",
            "0   0.0                       2752                             5091   \n",
            "1   0.0                      10460                            19057   \n",
            "2   0.0                       2413                             4373   \n",
            "3   1.0                      50128                            87991   \n",
            "4   0.0                       7244                            13594   \n",
            "\n",
            "   Lifetime Engaged Users  Lifetime Post Consumers  \\\n",
            "0                     178                      109   \n",
            "1                    1457                     1361   \n",
            "2                     177                      113   \n",
            "3                    2211                      790   \n",
            "4                     671                      410   \n",
            "\n",
            "   Lifetime Post Consumptions  \\\n",
            "0                         159   \n",
            "1                        1674   \n",
            "2                         154   \n",
            "3                        1119   \n",
            "4                         580   \n",
            "\n",
            "   Lifetime Post Impressions by people who have liked your Page  \\\n",
            "0                                               3078              \n",
            "1                                              11710              \n",
            "2                                               2812              \n",
            "3                                              61027              \n",
            "4                                               6228              \n",
            "\n",
            "   Lifetime Post reach by people who like your Page  \\\n",
            "0                                              1640   \n",
            "1                                              6112   \n",
            "2                                              1503   \n",
            "3                                             32048   \n",
            "4                                              3200   \n",
            "\n",
            "   Lifetime People who have liked your Page and engaged with your post  \\\n",
            "0                                                119                     \n",
            "1                                               1108                     \n",
            "2                                                132                     \n",
            "3                                               1386                     \n",
            "4                                                396                     \n",
            "\n",
            "   comment    like  share  Total Interactions  \n",
            "0        4    79.0   17.0                 100  \n",
            "1        5   130.0   29.0                 164  \n",
            "2        0    66.0   14.0                  80  \n",
            "3       58  1572.0  147.0                1777  \n",
            "4       19   325.0   49.0                 393  \n",
            "\n",
            "Telecom Dataset:\n",
            "   Call  Failure  Complains  Subscription  Length  Charge  Amount  \\\n",
            "0              8          0                    38               0   \n",
            "1              0          0                    39               0   \n",
            "2             10          0                    37               0   \n",
            "3             10          0                    38               0   \n",
            "4              3          0                    38               0   \n",
            "\n",
            "   Seconds of Use  Frequency of use  Frequency of SMS  \\\n",
            "0            4370                71                 5   \n",
            "1             318                 5                 7   \n",
            "2            2453                60               359   \n",
            "3            4198                66                 1   \n",
            "4            2393                58                 2   \n",
            "\n",
            "   Distinct Called Numbers  Age Group  Tariff Plan  Status  Age  \\\n",
            "0                       17          3            1       1   30   \n",
            "1                        4          2            1       2   25   \n",
            "2                       24          3            1       1   30   \n",
            "3                       35          1            1       1   15   \n",
            "4                       33          1            1       1   15   \n",
            "\n",
            "   Customer Value  Churn  \n",
            "0         197.640      0  \n",
            "1          46.035      0  \n",
            "2        1536.520      0  \n",
            "3         240.020      0  \n",
            "4         145.805      0  \n"
          ]
        }
      ]
    },
    {
      "cell_type": "markdown",
      "source": [
        "# New Section"
      ],
      "metadata": {
        "id": "1H-ktE003GbP"
      }
    },
    {
      "cell_type": "markdown",
      "source": [
        " # Social Media  Data Cleaning of for Modelling\n",
        "\n",
        "## Explanation\n",
        "\n",
        "This section focuses on the data cleaning necessary for preparing the Social Media Metrics dataset for machine learning. It includes selecting relevant input features and the target variable, handling missing values, and previewing the cleaned dataset. These steps are essential before applying any modelling techniques.\n"
      ],
      "metadata": {
        "id": "zF2EPTGyZ69U"
      }
    },
    {
      "cell_type": "code",
      "source": [
        "# Import necessary libraries\n",
        "import pandas as pd\n",
        "from sklearn.model_selection import train_test_split\n",
        "from sklearn.linear_model import LinearRegression\n",
        "from sklearn.metrics import mean_squared_error, r2_score\n",
        "from sklearn.preprocessing import StandardScaler, OneHotEncoder\n",
        "from sklearn.compose import ColumnTransformer\n",
        "from sklearn.pipeline import Pipeline\n",
        "\n",
        "# Load the Social Media Metrics dataset\n",
        "socialmedia_df = pd.read_csv('/content/drive/MyDrive/socialmedia.csv')\n",
        "\n",
        "# Selecting relevant features and target variable\n",
        "features = ['Page total likes', 'Type', 'Category', 'Post Hour', 'Paid']\n",
        "X_socialmedia = socialmedia_df[features]\n",
        "y_socialmedia = socialmedia_df['Lifetime Engaged Users']\n",
        "\n",
        "# Handling missing values\n",
        "X_socialmedia = X_socialmedia.fillna(0)  # Replace with more appropriate imputation if needed\n",
        "\n",
        "# Display dataset structure\n",
        "print(\"Features dataset:\")\n",
        "print(X_socialmedia.head())\n",
        "print(\"\\nTarget variable:\")\n",
        "print(y_socialmedia.head())\n"
      ],
      "metadata": {
        "id": "J_JN-ARpir2H"
      },
      "execution_count": null,
      "outputs": []
    },
    {
      "cell_type": "markdown",
      "source": [
        "# Data Preprocessing and Pipeline Setup for Regression Modelling\n",
        "\n",
        "## Explanation\n",
        "\n",
        "This section defines the preprocessing steps and creates a machine learning pipeline for predicting user engagement (Lifetime Engaged Users) using a linear regression model. It also prepares the data for training and testing by splitting it into subsets.\n"
      ],
      "metadata": {
        "id": "GEJ5zE7Oa66E"
      }
    },
    {
      "cell_type": "code",
      "source": [
        "# Define the preprocessing steps\n",
        "preprocessor = ColumnTransformer(\n",
        "    transformers=[\n",
        "        ('num', StandardScaler(), ['Page total likes', 'Post Hour', 'Paid']),\n",
        "        ('cat', OneHotEncoder(handle_unknown='ignore'), ['Type', 'Category'])\n",
        "    ])\n",
        "\n",
        "# Define the pipeline\n",
        "pipeline = Pipeline(steps=[\n",
        "    ('preprocessor', preprocessor),\n",
        "    ('regressor', LinearRegression())\n",
        "])\n",
        "\n",
        "# Split the data into training and testing sets (80-20 split)\n",
        "X_train_sm, X_test_sm, y_train_sm, y_test_sm = train_test_split(X_socialmedia, y_socialmedia, test_size=0.2, random_state=42)\n"
      ],
      "metadata": {
        "id": "AO2RRmv6JfEL"
      },
      "execution_count": null,
      "outputs": []
    },
    {
      "cell_type": "markdown",
      "source": [
        "# Model Training, Prediction, and Evaluation\n",
        "\n",
        "## Explanation\n",
        "\n",
        "This section completes the regression modeling process by training the pipeline, generating predictions, and evaluating performance on both training and test datasets. This helps assess how well the model generalizes to new, unseen data.\n",
        "\n"
      ],
      "metadata": {
        "id": "jAQl_KYJb7Nd"
      }
    },
    {
      "cell_type": "code",
      "source": [
        "# Fit the model on training data\n",
        "pipeline.fit(X_train_sm, y_train_sm)\n",
        "\n",
        "# Make predictions on both training and testing data\n",
        "y_train_pred_sm = pipeline.predict(X_train_sm)\n",
        "y_test_pred_sm = pipeline.predict(X_test_sm)\n",
        "\n",
        "# Evaluate the model\n",
        "train_mse_sm = mean_squared_error(y_train_sm, y_train_pred_sm)\n",
        "test_mse_sm = mean_squared_error(y_test_sm, y_test_pred_sm)\n",
        "train_r2_sm = r2_score(y_train_sm, y_train_pred_sm)\n",
        "test_r2_sm = r2_score(y_test_sm, y_test_pred_sm)\n",
        "\n",
        "print(f\"Training MSE: {train_mse_sm}, Training R²: {train_r2_sm}\")\n",
        "print(f\"Testing MSE: {test_mse_sm}, Testing R²: {test_r2_sm}\")\n"
      ],
      "metadata": {
        "id": "gQCivPm0JfBl",
        "colab": {
          "base_uri": "https://localhost:8080/"
        },
        "outputId": "3055dbf6-cef3-4016-cd19-625185604870"
      },
      "execution_count": null,
      "outputs": [
        {
          "output_type": "stream",
          "name": "stdout",
          "text": [
            "Training MSE: 851154.5821688741, Training R²: 0.20570089686390247\n",
            "Testing MSE: 459291.161656748, Testing R²: 0.1558370513520827\n"
          ]
        }
      ]
    },
    {
      "cell_type": "markdown",
      "source": [
        "# Interpreting Model Coefficients to Identify Feature Importance\n",
        "\n",
        "## Explanation\n",
        "\n",
        "This section extracts and displays the importance of each feature in the regression model by analyzing the coefficients assigned during training. It provides insight into which variables most significantly affect predicted user engagement.\n",
        "\n"
      ],
      "metadata": {
        "id": "p2n6TecAcQdn"
      }
    },
    {
      "cell_type": "code",
      "source": [
        "# Get feature names after encoding\n",
        "feature_names = preprocessor.named_transformers_['cat'].get_feature_names_out(['Type', 'Category'])\n",
        "all_feature_names = ['Page total likes', 'Post Hour', 'Paid'] + list(feature_names)\n",
        "\n",
        "# Model coefficients\n",
        "coefficients = pipeline.named_steps['regressor'].coef_\n",
        "\n",
        "# Display feature importance\n",
        "feature_importance = pd.DataFrame({'Feature': all_feature_names, 'Coefficient': coefficients})\n",
        "feature_importance = feature_importance.sort_values(by='Coefficient', key=abs, ascending=False)\n",
        "print(\"\\nFeature Importance (sorted by absolute coefficient values):\")\n",
        "print(feature_importance)\n",
        "\n"
      ],
      "metadata": {
        "id": "hOrLDD3uJe98",
        "colab": {
          "base_uri": "https://localhost:8080/"
        },
        "outputId": "d5366c8a-2935-49f4-99d6-5ec705fd36c6"
      },
      "execution_count": null,
      "outputs": [
        {
          "output_type": "stream",
          "name": "stdout",
          "text": [
            "\n",
            "Feature Importance (sorted by absolute coefficient values):\n",
            "            Feature  Coefficient\n",
            "3         Type_Link -1131.852370\n",
            "5       Type_Status   994.154893\n",
            "6        Type_Video   652.484424\n",
            "4        Type_Photo  -514.786947\n",
            "0  Page total likes  -231.231917\n",
            "2              Paid   132.694985\n",
            "7        Category_1    63.564900\n",
            "1         Post Hour   -56.536562\n",
            "8        Category_2   -33.876303\n",
            "9        Category_3   -29.688597\n"
          ]
        }
      ]
    },
    {
      "cell_type": "markdown",
      "source": [
        "# Loading and Inspecting the Telecom Churn Dataset\n",
        "\n",
        "## Explanation\n",
        "\n",
        "This section loads the Telecom Churn dataset and performs an initial data inspection to prepare for churn prediction. It identifies the target variable (Churn) and separates it from the feature set (X_telecom), setting the stage for future preprocessing and model building.\n",
        "\n",
        "\n"
      ],
      "metadata": {
        "id": "xUrqPygCccik"
      }
    },
    {
      "cell_type": "code",
      "source": [
        "import pandas as pd\n",
        "\n",
        "# Load the churn dataset (make sure the path is correct)\n",
        "telecom_df = pd.read_csv('/content/drive/MyDrive/telecom.csv')\n",
        "\n",
        "# Check the first few rows of the dataset to confirm it loaded correctly\n",
        "print(\"Dataset Sample:\")\n",
        "print(telecom_df.head())\n",
        "\n",
        "# Define the target variable 'Churn' and separate features\n",
        "X_telecom = telecom_df.drop(columns=['Churn'], errors='ignore')\n",
        "y_telecom = telecom_df['Churn']\n",
        "\n",
        "# Verify column names and structure of the data\n",
        "print(\"\\nFeature Columns:\")\n",
        "print(X_telecom.columns)\n",
        "print(\"\\nTarget Variable Sample:\")\n",
        "print(y_telecom.head())\n"
      ],
      "metadata": {
        "colab": {
          "base_uri": "https://localhost:8080/"
        },
        "id": "Y34i_f9KSp14",
        "outputId": "10ea9362-0204-4882-cf80-4723a61db5f7"
      },
      "execution_count": null,
      "outputs": [
        {
          "output_type": "stream",
          "name": "stdout",
          "text": [
            "Dataset Sample:\n",
            "   Call  Failure  Complains  Subscription  Length  Charge  Amount  \\\n",
            "0              8          0                    38               0   \n",
            "1              0          0                    39               0   \n",
            "2             10          0                    37               0   \n",
            "3             10          0                    38               0   \n",
            "4              3          0                    38               0   \n",
            "\n",
            "   Seconds of Use  Frequency of use  Frequency of SMS  \\\n",
            "0            4370                71                 5   \n",
            "1             318                 5                 7   \n",
            "2            2453                60               359   \n",
            "3            4198                66                 1   \n",
            "4            2393                58                 2   \n",
            "\n",
            "   Distinct Called Numbers  Age Group  Tariff Plan  Status  Age  \\\n",
            "0                       17          3            1       1   30   \n",
            "1                        4          2            1       2   25   \n",
            "2                       24          3            1       1   30   \n",
            "3                       35          1            1       1   15   \n",
            "4                       33          1            1       1   15   \n",
            "\n",
            "   Customer Value  Churn  \n",
            "0         197.640      0  \n",
            "1          46.035      0  \n",
            "2        1536.520      0  \n",
            "3         240.020      0  \n",
            "4         145.805      0  \n",
            "\n",
            "Feature Columns:\n",
            "Index(['Call  Failure', 'Complains', 'Subscription  Length', 'Charge  Amount',\n",
            "       'Seconds of Use', 'Frequency of use', 'Frequency of SMS',\n",
            "       'Distinct Called Numbers', 'Age Group', 'Tariff Plan', 'Status', 'Age',\n",
            "       'Customer Value'],\n",
            "      dtype='object')\n",
            "\n",
            "Target Variable Sample:\n",
            "0    0\n",
            "1    0\n",
            "2    0\n",
            "3    0\n",
            "4    0\n",
            "Name: Churn, dtype: int64\n"
          ]
        }
      ]
    },
    {
      "cell_type": "markdown",
      "source": [
        "# Churn Prediction Using Logistic Regression and KNN with Model Comparison\n",
        "\n",
        "## Explanation\n",
        "\n",
        "### Data Preparation and Cleaning\n",
        "The telecom dataset was loaded from Google Drive and inspected for missing values.\n",
        "\n",
        "Missing data was handled by dropping rows with null entries to ensure the dataset was clean and complete before modeling.\n",
        "\n",
        "### Feature Selection and Separation\n",
        "The target variable is 'Churn', indicating whether a customer left the service.\n",
        "\n",
        "All remaining columns were treated as input features, further divided into:\n",
        "\n",
        "Numerical features (e.g., age, usage metrics)\n",
        "\n",
        "Categorical features (Age Group, Tariff Plan, Status)\n",
        "\n",
        "### Preprocessing Pipeline\n",
        "To prepare the data for modeling:\n",
        "\n",
        "Numerical features were standardized using StandardScaler to ensure all values are on a similar scale.\n",
        "\n",
        "Categorical features were encoded using OneHotEncoder, converting categories into a machine-readable numeric format.\n",
        "\n",
        "A ColumnTransformer combined these preprocessing steps, and each model was embedded in a pipeline to ensure consistent processing.\n",
        "\n",
        "###  Model Training and Evaluation\n",
        "The dataset was split into training (80%) and testing (20%) sets.\n",
        "\n",
        "#### Two models were trained:\n",
        "\n",
        "Logistic Regression: A linear classifier suitable for binary classification and interpreting feature importance.\n",
        "\n",
        "K-Nearest Neighbors (KNN): A distance-based classifier that predicts labels based on the nearest data points in the feature space.\n",
        "\n",
        "Each model was evaluated using accuracy score on the test set, providing an initial measure of predictive performance.\n",
        "\n",
        "###  Hyperparameter Tuning for KNN\n",
        "Since KNN’s performance depends heavily on the choice of K (number of neighbors), a loop tested values of K from 1 to 20.\n",
        "\n",
        "The accuracy for each K was recorded and visualized using a line plot.\n",
        "\n",
        "The optimal K was identified — the one that achieved the highest test accuracy.\n",
        "\n",
        "### Feature Importance Analysis (Logistic Regression)\n",
        "Coefficients from the logistic regression model were extracted to assess the impact of each feature on churn.\n",
        "\n",
        "Positive coefficients indicate features that increase the likelihood of churn.\n",
        "\n",
        "Negative coefficients indicate features that decrease the likelihood.\n",
        "\n",
        "This insight helps stakeholders understand which variables are most critical in predicting customer behavior.\n",
        "\n"
      ],
      "metadata": {
        "id": "PfYw-AXhc3hY"
      }
    },
    {
      "cell_type": "code",
      "source": [
        "import pandas as pd\n",
        "from sklearn.model_selection import train_test_split\n",
        "from sklearn.preprocessing import StandardScaler, OneHotEncoder\n",
        "from sklearn.compose import ColumnTransformer\n",
        "from sklearn.pipeline import Pipeline\n",
        "from sklearn.linear_model import LogisticRegression\n",
        "from sklearn.neighbors import KNeighborsClassifier\n",
        "from sklearn.metrics import accuracy_score\n",
        "import matplotlib.pyplot as plt\n",
        "\n",
        "# Load the dataset\n",
        "telecom_path = '/content/drive/MyDrive/telecom.csv'  # Update if in a specific folder\n",
        "telecom_df = pd.read_csv(telecom_path)\n",
        "\n",
        "\n",
        "# Check for missing values\n",
        "print(\"Missing Values:\", telecom_df.isnull().sum())\n",
        "\n",
        "# Handle missing values (for simplicity, we'll drop rows with missing values)\n",
        "telecom_df = telecom_df.dropna()\n",
        "\n",
        "# Define feature columns and target variable\n",
        "X_telecom = telecom_df.drop('Churn', axis=1)  # Features\n",
        "y_telecom = telecom_df['Churn']  # Target\n",
        "\n",
        "# Separate categorical and numerical features\n",
        "categorical_features = ['Age Group', 'Tariff Plan', 'Status']  # Example of categorical features\n",
        "numerical_features = X_telecom.select_dtypes(include=['int64', 'float64']).columns.tolist()\n",
        "\n",
        "# Preprocessing pipeline for numerical and categorical features\n",
        "preprocessor = ColumnTransformer(\n",
        "    transformers=[\n",
        "        ('num', StandardScaler(), numerical_features),  # Scale numerical features\n",
        "        ('cat', OneHotEncoder(handle_unknown='ignore'), categorical_features)  # Encode categorical features\n",
        "    ])\n",
        "\n",
        "# Create a pipeline for Logistic Regression and KNN models\n",
        "logreg_pipeline = Pipeline(steps=[\n",
        "    ('preprocessor', preprocessor),\n",
        "    ('classifier', LogisticRegression())\n",
        "])\n",
        "\n",
        "knn_pipeline = Pipeline(steps=[\n",
        "    ('preprocessor', preprocessor),\n",
        "    ('classifier', KNeighborsClassifier())\n",
        "])\n",
        "\n",
        "# Split data into training and testing sets (80-20 split)\n",
        "X_train, X_test, y_train, y_test = train_test_split(X_telecom, y_telecom, test_size=0.2, random_state=42)\n",
        "\n",
        "# Train Logistic Regression model\n",
        "logreg_pipeline.fit(X_train, y_train)\n",
        "\n",
        "# Train KNN model (with K=5)\n",
        "knn_pipeline.fit(X_train, y_train)\n",
        "\n",
        "# Predictions\n",
        "logreg_preds = logreg_pipeline.predict(X_test)\n",
        "knn_preds = knn_pipeline.predict(X_test)\n",
        "\n",
        "# Evaluate models using accuracy\n",
        "logreg_accuracy = accuracy_score(y_test, logreg_preds)\n",
        "knn_accuracy = accuracy_score(y_test, knn_preds)\n",
        "\n",
        "print(f\"Logistic Regression Accuracy: {logreg_accuracy}\")\n",
        "print(f\"KNN Accuracy (K=5): {knn_accuracy}\")\n",
        "\n",
        "# Explore effect of changing K in KNN\n",
        "k_values = range(1, 21)  # Test K values from 1 to 20\n",
        "knn_accuracies = []\n",
        "\n",
        "for k in k_values:\n",
        "    knn_pipeline.set_params(classifier=KNeighborsClassifier(n_neighbors=k))\n",
        "    knn_pipeline.fit(X_train, y_train)\n",
        "    knn_preds = knn_pipeline.predict(X_test)\n",
        "    knn_accuracies.append(accuracy_score(y_test, knn_preds))\n",
        "\n",
        "# Plot accuracy vs K\n",
        "plt.plot(k_values, knn_accuracies, marker='o')\n",
        "plt.title('KNN Accuracy vs K')\n",
        "plt.xlabel('K (Number of Neighbors)')\n",
        "plt.ylabel('Accuracy')\n",
        "plt.show()\n",
        "\n",
        "# Best K\n",
        "best_k = k_values[knn_accuracies.index(max(knn_accuracies))]\n",
        "print(f\"Best K for KNN: {best_k}\")\n",
        "\n",
        "# Analysis: Most important features based on model coefficients (Logistic Regression)\n",
        "logreg_coef = logreg_pipeline.named_steps['classifier'].coef_[0]\n",
        "feature_names = numerical_features + list(preprocessor.transformers_[1][1].get_feature_names_out(categorical_features))\n",
        "feature_importance = pd.DataFrame({'Feature': feature_names, 'Coefficient': logreg_coef})\n",
        "print(feature_importance.sort_values(by='Coefficient', ascending=False))\n"
      ],
      "metadata": {
        "colab": {
          "base_uri": "https://localhost:8080/",
          "height": 1000
        },
        "id": "iznb9kI4Spai",
        "outputId": "d7bce314-9379-4ca3-a2aa-975b4bee6064"
      },
      "execution_count": null,
      "outputs": [
        {
          "output_type": "stream",
          "name": "stdout",
          "text": [
            "Missing Values: Call  Failure              0\n",
            "Complains                  0\n",
            "Subscription  Length       0\n",
            "Charge  Amount             0\n",
            "Seconds of Use             0\n",
            "Frequency of use           0\n",
            "Frequency of SMS           0\n",
            "Distinct Called Numbers    0\n",
            "Age Group                  0\n",
            "Tariff Plan                0\n",
            "Status                     0\n",
            "Age                        0\n",
            "Customer Value             0\n",
            "Churn                      0\n",
            "dtype: int64\n",
            "Logistic Regression Accuracy: 0.8698412698412699\n",
            "KNN Accuracy (K=5): 0.9317460317460318\n"
          ]
        },
        {
          "output_type": "display_data",
          "data": {
            "text/plain": [
              "<Figure size 640x480 with 1 Axes>"
            ],
            "image/png": "[encoded data removed]"
          },
          "metadata": {}
        },
        {
          "output_type": "stream",
          "name": "stdout",
          "text": [
            "Best K for KNN: 2\n",
            "                    Feature  Coefficient\n",
            "1                 Complains     1.103923\n",
            "0             Call  Failure     0.868096\n",
            "4            Seconds of Use     0.865874\n",
            "14              Age Group_2     0.695437\n",
            "16              Age Group_4     0.675648\n",
            "15              Age Group_3     0.533240\n",
            "10                   Status     0.351586\n",
            "12           Customer Value     0.192794\n",
            "8                 Age Group     0.149933\n",
            "21                 Status_2     0.148200\n",
            "9               Tariff Plan     0.137933\n",
            "19            Tariff Plan_2     0.036391\n",
            "18            Tariff Plan_1    -0.046620\n",
            "11                      Age    -0.154419\n",
            "20                 Status_1    -0.158429\n",
            "2      Subscription  Length    -0.175953\n",
            "7   Distinct Called Numbers    -0.365365\n",
            "3            Charge  Amount    -0.629595\n",
            "17              Age Group_5    -0.918529\n",
            "13              Age Group_1    -0.996025\n",
            "6          Frequency of SMS    -1.728051\n",
            "5          Frequency of use    -2.192656\n"
          ]
        }
      ]
    },
    {
      "cell_type": "markdown",
      "source": [
        "# Churn Prediction Results and Analysis\n",
        "\n",
        "## Model Performance Summary\n",
        "\n",
        "After preprocessing and training both models on the telecom dataset, the following results were observed:\n",
        "\n",
        "### Logistic Regression Accuracy: 86.98%\n",
        "\n",
        "### K-Nearest Neighbors (K=5) Accuracy: 93.17%\n",
        "\n",
        "Optimal K for KNN: 2 yielded the highest accuracy among the tested values (1–20).\n",
        "\n",
        "These results indicate that KNN outperformed Logistic Regression in terms of predictive accuracy, making it the stronger model for identifying churn risk in this dataset."
      ],
      "metadata": {
        "id": "98sTzzuodzxw"
      }
    }
  ]
}